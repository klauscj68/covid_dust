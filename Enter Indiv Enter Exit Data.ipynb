{
 "cells": [
  {
   "cell_type": "markdown",
   "id": "303a9ad5",
   "metadata": {},
   "source": [
    "# Interface for recording individuals entering and exiting the building"
   ]
  },
  {
   "cell_type": "code",
   "execution_count": null,
   "id": "4cc8f86f",
   "metadata": {},
   "outputs": [],
   "source": [
    "using CSV,DataFrames\n",
    "include(\"poimcmc.jl\");"
   ]
  },
  {
   "cell_type": "code",
   "execution_count": null,
   "id": "7b6c8f0d",
   "metadata": {},
   "outputs": [],
   "source": [
    "df = CSV.read(\"MCMCsmp.csv\",DataFrame,header=false); rename!(df,[\"Column1\"=>\"name\",\"Column2\"=>\"value\"]);\n",
    "df[!,\"name\"].=Symbol.(df[!,\"name\"]); \n",
    "first(df,3)"
   ]
  },
  {
   "cell_type": "markdown",
   "id": "b4b83e63",
   "metadata": {},
   "source": [
    "#### Set the enter exit values as desired"
   ]
  },
  {
   "cell_type": "code",
   "execution_count": null,
   "id": "29bffca9",
   "metadata": {},
   "outputs": [],
   "source": [
    "prm,vkeys = rdprm(df[!,\"value\"],df[!,\"name\"]); nmax=Int64(prm[:nmax]);\n",
    "println(\"Max number of infected individuals: $nmax\")"
   ]
  },
  {
   "cell_type": "markdown",
   "id": "d705afb2",
   "metadata": {},
   "source": [
    "Below we are taking a steady flow of individuals from time t=-9->t=10 and 4 coming in/day with them leaving 10 days later. We loop over 20 days and the 4 individuals per day."
   ]
  },
  {
   "cell_type": "code",
   "execution_count": null,
   "id": "e715d7b7",
   "metadata": {},
   "outputs": [],
   "source": [
    "gen=[1,0];\n",
    "@inbounds for i=1:80\n",
    "    if gen[2]<4\n",
    "        gen[2]+=1;\n",
    "    else\n",
    "        gen[1]+=1; gen[2]=1;\n",
    "    end\n",
    "    \n",
    "    tei = Symbol(:te,i);\n",
    "    tℓi = Symbol(:tℓ,i);\n",
    "    \n",
    "    prm[tei] = gen[1]-10;\n",
    "    prm[tℓi] = prm[tei] + 10;\n",
    "end"
   ]
  },
  {
   "cell_type": "code",
   "execution_count": null,
   "id": "f9b038aa",
   "metadata": {},
   "outputs": [],
   "source": [
    "wrtprm!(prm,vkeys,df[!,\"value\"]);"
   ]
  },
  {
   "cell_type": "code",
   "execution_count": null,
   "id": "337a0d36",
   "metadata": {},
   "outputs": [],
   "source": [
    "CSV.write(\"MCMCsmp.csv\",df,writeheader=false);"
   ]
  }
 ],
 "metadata": {
  "kernelspec": {
   "display_name": "Julia 1.6.0",
   "language": "julia",
   "name": "julia-1.6"
  },
  "language_info": {
   "file_extension": ".jl",
   "mimetype": "application/julia",
   "name": "julia",
   "version": "1.6.0"
  }
 },
 "nbformat": 4,
 "nbformat_minor": 5
}
