{
 "cells": [
  {
   "cell_type": "markdown",
   "id": "303a9ad5",
   "metadata": {},
   "source": [
    "# Interface for recording individuals entering and exiting the building"
   ]
  },
  {
   "cell_type": "code",
   "execution_count": null,
   "id": "4cc8f86f",
   "metadata": {},
   "outputs": [],
   "source": [
    "using CSV,DataFrames\n",
    "include(\"auxilliary.jl\"); include(\"poimcmc.jl\");"
   ]
  },
  {
   "cell_type": "markdown",
   "id": "65606e78",
   "metadata": {},
   "source": [
    "## Inputs"
   ]
  },
  {
   "cell_type": "code",
   "execution_count": null,
   "id": "c300b608",
   "metadata": {},
   "outputs": [],
   "source": [
    "blds = [\"\"];\n",
    "dts = [\"\"];"
   ]
  },
  {
   "cell_type": "markdown",
   "id": "6cf53554",
   "metadata": {},
   "source": [
    "## Ancillary Functions"
   ]
  },
  {
   "cell_type": "code",
   "execution_count": null,
   "id": "99e8ba8a",
   "metadata": {},
   "outputs": [],
   "source": [
    "function dtrg(v)\n",
    "    day0 = Date(\"3000-01-01\"); dayf = Date(\"0000-01-01\");\n",
    "    for i=1:length(v)\n",
    "        if !ismissing(v[i])\n",
    "            v0 =  Date(v[i],\"m/d/yyyy\")\n",
    "            day0 = v0 < day0 ? v0 : day0;\n",
    "            \n",
    "            dayf = v0 > dayf ? v0 : dayf;\n",
    "        end\n",
    "    end\n",
    "    day0 = day0 == Date(\"3000-01-01\") ? missing : day0;\n",
    "    dayf = dayf == Date(\"0000-01-01\") ? missing : dayf;\n",
    "    return day0,dayf\n",
    "end;\n",
    "\n",
    "function myparsebeg(v)\n",
    "    return dtrg(v)[1];\n",
    "end\n",
    "\n",
    "function myparseend(v)\n",
    "    return dtrg(v)[2];\n",
    "end; \n",
    "\n",
    "function myuppercase(v)\n",
    "    if ismissing(v)\n",
    "        return v\n",
    "    end\n",
    "    return uppercase(v)\n",
    "end;\n",
    "\n",
    "function mysplit(s::String)\n",
    "    w=split(s,\" \")[1]|>Date;\n",
    "    return w\n",
    "end;\n",
    "\n",
    "function myparsedustfname(s::String)\n",
    "    dt = s[4:5];\n",
    "    if s[1:3]==\"Jan\"\n",
    "        mth = \"01\";\n",
    "    elseif s[1:3]==\"Feb\"\n",
    "        mth = \"02\";\n",
    "    elseif s[1:3]==\"Mar\"\n",
    "        mth = \"03\";\n",
    "    end\n",
    "    \n",
    "    return Date(\"2022-\"*mth*\"-\"*dt)\n",
    "end\n",
    "\n",
    "\"\"\"\n",
    "Used to extract residential buildings from dorm entries of goldstar\n",
    "\"\"\"\n",
    "function ressplit(s::Union{String,Missing})\n",
    "    if ismissing(s)\n",
    "        return s\n",
    "    end\n",
    "    val = split(s,\" - \");\n",
    "    return convert(String,val[2])\n",
    "    end;\n",
    "    \n",
    "function btwn(x::Date,d1::Date,d2::Date)\n",
    "    return (x>=d1)&&(x<=d2)\n",
    "end;\n",
    "\n",
    "\"\"\"\n",
    "Used to map an iso start date into the range of Chance's dust compliance\n",
    "\"\"\"\n",
    "function isocmplymap(drm::String,dt::Date,df::DataFrame)\n",
    "    gdf = groupby(df,\"dorm\");\n",
    "    dftemp = gdf[(dorm=drm,)] |> DataFrame;\n",
    "    sort!(dftemp,\"end_date\"); dts = dftemp[:,\"end_date\"];\n",
    "    n = nrow(dftemp);\n",
    "    \n",
    "    dts = [dts[1]-Day(7);dts[:]];\n",
    "    n+=1;\n",
    "    \n",
    "    @inbounds for i=1:n-1\n",
    "        if (dt>dts[i])&&(dt<=dts[i+1])\n",
    "            return dts[i+1]\n",
    "        end\n",
    "    end\n",
    "    \n",
    "    return missing\n",
    "end\n",
    "function isocmplymap(drm::Vector{String},dt::Vector{Date},df::DataFrame)\n",
    "    n = length(drm);\n",
    "    return [isocmplymap(drm[i],dt[i],df) for i=1:n]\n",
    "end;"
   ]
  },
  {
   "cell_type": "markdown",
   "id": "1297f0ce",
   "metadata": {},
   "source": [
    "## Load the building dust and individual isolation histories"
   ]
  },
  {
   "cell_type": "code",
   "execution_count": null,
   "id": "ea86d172",
   "metadata": {},
   "outputs": [],
   "source": [
    "dfbld = CSV.read(\"blddust.csv\",DataFrame)"
   ]
  },
  {
   "cell_type": "code",
   "execution_count": null,
   "id": "15c67598",
   "metadata": {},
   "outputs": [],
   "source": [
    "dfindiv = CSV.read(\"indivposbybld.csv\",DataFrame);\n",
    "first(dfindiv,3)"
   ]
  },
  {
   "cell_type": "code",
   "execution_count": null,
   "id": "1e7b3729",
   "metadata": {},
   "outputs": [],
   "source": [
    "println(\"Aggregate infection counts by building:\")\n",
    "gdf = groupby(dfindiv,\"addr_1\");\n",
    "dfagg = combine(gdf,[dts[i]=>sum=>dts[i] for i=1:length(dts)])"
   ]
  },
  {
   "cell_type": "markdown",
   "id": "73260900",
   "metadata": {},
   "source": [
    "## Run initialize an mcmc run to have a prm for writing individual histories too\n",
    "Note: data() should already match the number infected to the date ranges we are using in the above table"
   ]
  },
  {
   "cell_type": "code",
   "execution_count": null,
   "id": "1b0fe5f9",
   "metadata": {},
   "outputs": [],
   "source": [
    "mcmcrun(1;Δprg=1.0);"
   ]
  },
  {
   "cell_type": "code",
   "execution_count": null,
   "id": "7b6c8f0d",
   "metadata": {},
   "outputs": [],
   "source": [
    "df = CSV.read(\"MCMCsmp.csv\",DataFrame,header=false); rename!(df,[\"Column1\"=>\"name\",\"Column2\"=>\"value\"]);\n",
    "df[!,\"name\"].=Symbol.(df[!,\"name\"]); \n",
    "first(df)"
   ]
  },
  {
   "cell_type": "markdown",
   "id": "b4b83e63",
   "metadata": {},
   "source": [
    "### Set the leave for isolation date to match observed\n",
    "Note **the serial index of building is a lex order cycling first over dates than over buildings, ie grouped by buildings**."
   ]
  },
  {
   "cell_type": "code",
   "execution_count": null,
   "id": "29bffca9",
   "metadata": {},
   "outputs": [],
   "source": [
    "prm,vkeys = rdprm(df[!,\"value\"],df[!,\"name\"]); nmax=Int64(prm[:nmax]);\n",
    "println(\"Max number of infected individuals: $nmax\")"
   ]
  },
  {
   "cell_type": "markdown",
   "id": "d705afb2",
   "metadata": {},
   "source": [
    "Below we loop over building and dates and write in number of infected and dust measurements per building"
   ]
  },
  {
   "cell_type": "code",
   "execution_count": null,
   "id": "3088b5c5",
   "metadata": {},
   "outputs": [],
   "source": [
    "pos = 0; \n",
    "gdfagg = groupby(dfagg,\"addr_1\"); gdfbld = groupby(dfbld,[\"addr_1\",\"end_date\"]);\n",
    "for bld in blds\n",
    "    keyagg=(addr_1=bld,);\n",
    "    for dt in dts\n",
    "        pos += 1; dt0 = myparsedustfname(dt); keybld = (addr_1=bld,end_date=dt0)\n",
    "        ni = Symbol(:n,pos)\n",
    "        Yi = Symbol(:Y,pos)\n",
    "        \n",
    "        prm[ni]=gdfagg[keyagg][1,dt];\n",
    "        prm[Yi]=gdfbld[keybld][1,\"Result (cp/mg)\"];\n",
    "    end\n",
    "end; "
   ]
  },
  {
   "cell_type": "markdown",
   "id": "c0a1f567",
   "metadata": {},
   "source": [
    "Below we loop over all buildings and dates and write those individuals into prm file according to the listing in aggregate infection counts by building"
   ]
  },
  {
   "cell_type": "code",
   "execution_count": null,
   "id": "e715d7b7",
   "metadata": {},
   "outputs": [],
   "source": [
    "gdf = groupby(dfindiv,\"addr_1\");\n",
    "pos = 0;\n",
    "for bld in blds\n",
    "    key = (addr_1=bld,);\n",
    "    for dt in dts\n",
    "        dt0 = myparsedustfname(dt)-Day(7);\n",
    "        for k=1:nrow(gdf[key])\n",
    "            if gdf[key][k,dt]\n",
    "                # Store the individual leaving date\n",
    "                pos += 1;\n",
    "                tℓp = Symbol(:tℓ,pos)\n",
    "                prm[tℓp] = getfield(gdf[key][k,\"isostart_date\"] - dt0,:value);\n",
    "            end\n",
    "        end\n",
    "    end\n",
    "end                      "
   ]
  },
  {
   "cell_type": "markdown",
   "id": "081a4187",
   "metadata": {},
   "source": [
    "Alternatively, we can fix enter exit times according to an equilibrium schedule. Below we are taking a steady flow of individuals from time t=-9->t=10 and 4 coming in/day with them leaving 10 days later. We loop over 20 days and the 4 individuals per day."
   ]
  },
  {
   "cell_type": "markdown",
   "id": "7ee8e97d",
   "metadata": {},
   "source": [
    "gen=[1,0];\n",
    "@inbounds for i=1:80\n",
    "    if gen[2]<4\n",
    "        gen[2]+=1;\n",
    "    else\n",
    "        gen[1]+=1; gen[2]=1;\n",
    "    end\n",
    "    \n",
    "    tei = Symbol(:te,i);\n",
    "    tℓi = Symbol(:tℓ,i);\n",
    "    \n",
    "    prm[tei] = gen[1]-10;\n",
    "    prm[tℓi] = prm[tei] + 10;\n",
    "end"
   ]
  },
  {
   "cell_type": "code",
   "execution_count": null,
   "id": "f9b038aa",
   "metadata": {},
   "outputs": [],
   "source": [
    "wrtprm!(prm,vkeys,df[!,\"value\"]);"
   ]
  },
  {
   "cell_type": "code",
   "execution_count": null,
   "id": "337a0d36",
   "metadata": {},
   "outputs": [],
   "source": [
    "CSV.write(\"MCMCsmp.csv\",df,writeheader=false);"
   ]
  }
 ],
 "metadata": {
  "kernelspec": {
   "display_name": "Julia 1.6.0",
   "language": "julia",
   "name": "julia-1.6"
  },
  "language_info": {
   "file_extension": ".jl",
   "mimetype": "application/julia",
   "name": "julia",
   "version": "1.6.0"
  }
 },
 "nbformat": 4,
 "nbformat_minor": 5
}
