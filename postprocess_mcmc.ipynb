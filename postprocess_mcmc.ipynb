{
 "cells": [
  {
   "cell_type": "markdown",
   "id": "497c93e5",
   "metadata": {},
   "source": [
    "# Analyze Dust Bayesian Inference Data"
   ]
  },
  {
   "cell_type": "code",
   "execution_count": null,
   "id": "f5e4f40f",
   "metadata": {},
   "outputs": [],
   "source": [
    "using Plots,Random,Measures,CSV,DataFrames,Statistics\n",
    "gr();\n",
    "\n",
    "include(\"aux.jl\"); include(\"poimcmc.jl\");"
   ]
  },
  {
   "cell_type": "code",
   "execution_count": null,
   "id": "3c61e119",
   "metadata": {},
   "outputs": [],
   "source": [
    "prm,_=data();\n",
    "println(\"Measured copies/mg dust:\")\n",
    "println(prm[:Y])"
   ]
  },
  {
   "cell_type": "markdown",
   "id": "a066ef35",
   "metadata": {},
   "source": [
    "## Load the MCMC samples"
   ]
  },
  {
   "cell_type": "code",
   "execution_count": null,
   "id": "d71874f2",
   "metadata": {},
   "outputs": [],
   "source": [
    "df = CSV.read(\"MCMCsmp.csv\",DataFrame,header=false); sort!(df,:Column1); nsmp = size(df)[2]-1;\n",
    "df[!,1] = Symbol.(df[!,1]);\n",
    "println(\"Number of MCMC samples: $nsmp\");"
   ]
  },
  {
   "cell_type": "markdown",
   "id": "1e89612e",
   "metadata": {},
   "source": [
    "## Posterior distributions for key parameters\n",
    "#### Parse parameters"
   ]
  },
  {
   "cell_type": "code",
   "execution_count": null,
   "id": "cc88d2ea",
   "metadata": {},
   "outputs": [],
   "source": [
    "PRM = Vector{Dict{Symbol,Float64}}(undef,nsmp);\n",
    "shift = 1;\n",
    "\n",
    "for i=1:nsmp\n",
    "    # load parameters\n",
    "    prm,_ = rdprm(df[:,i+1],df[:,1]);\n",
    "    PRM[i] = deepcopy(prm);\n",
    "end "
   ]
  },
  {
   "cell_type": "markdown",
   "id": "b6f499e2",
   "metadata": {},
   "source": [
    "#### Number infected"
   ]
  },
  {
   "cell_type": "code",
   "execution_count": null,
   "id": "873c22a3",
   "metadata": {},
   "outputs": [],
   "source": [
    "n = Vector{Float64}(undef,nsmp)\n",
    "for i=1:nsmp\n",
    "    n[i] = Int64(floor(PRM[i][:n]));\n",
    "end"
   ]
  },
  {
   "cell_type": "code",
   "execution_count": null,
   "id": "2edfba5d",
   "metadata": {},
   "outputs": [],
   "source": [
    "nstats = quantile(n,[0.025,0.25,0.5,0.75,0.975]);\n",
    "navg = sum(n)/length(n);\n",
    "println(\"n mean: $navg\")\n",
    "println(\"nstats $nstats\")\n",
    "\n",
    "p1 = histogram(n,normalize=:pdf,labels=\"\",title=\"posterior\",xlabel=\"number infected\",ylabel=\"density\");\n",
    "p2 = plot(n,linewidth=1,labels=\"\",title=\"trace\",xlabel=\"smp\",ylabel=\"number infected\");\n",
    "\n",
    "plot(p1,p2,size=(600,300),margin=2mm)"
   ]
  },
  {
   "cell_type": "markdown",
   "id": "5a8de7c6",
   "metadata": {},
   "source": [
    "#### Individual shedding curves\n",
    "$\\Gamma(\\alpha,\\beta)$ distribution hyperparameters for shedding amplitude"
   ]
  },
  {
   "cell_type": "code",
   "execution_count": null,
   "id": "c361bb4b",
   "metadata": {},
   "outputs": [],
   "source": [
    "Γₛ = Array{Float64,2}(undef,2,nsmp);\n",
    "for i=1:nsmp\n",
    "        Γₛ[1,i]=PRM[i][:Γα];\n",
    "        Γₛ[2,i]=PRM[i][:Γβ];\n",
    "end"
   ]
  },
  {
   "cell_type": "code",
   "execution_count": null,
   "id": "2ebd25de",
   "metadata": {},
   "outputs": [],
   "source": [
    "# Joint distribution of Γ(α,β)-hyperparameters\n",
    "println(\"Posterior joint distribution:\")\n",
    "histogram2d(Γₛ[1,:],Γₛ[2,:],xlabel=\"Γα\",ylabel=\"Γβ\",title=\"Shedding Distribution\")"
   ]
  },
  {
   "cell_type": "markdown",
   "id": "93b14ec6",
   "metadata": {},
   "source": [
    "$\\Gamma(\\bar{\\alpha},\\bar{\\beta})$ hyperparam marginals"
   ]
  },
  {
   "cell_type": "code",
   "execution_count": null,
   "id": "68d21c10",
   "metadata": {},
   "outputs": [],
   "source": [
    "function myΓ(α::Float64,β::Float64,x::Float64)\n",
    "    val = exp(α*log(β))*exp((α-1)*log(x))*exp(-β*x)/gamma(α);\n",
    "    \n",
    "    return val\n",
    "end\n",
    "\n",
    "function myΓ(α::Float64,β::Float64,x::Vector{Float64})\n",
    "    n = length(x);\n",
    "    val = Vector{Float64}(undef,n);\n",
    "    for i=1:n\n",
    "        val[i] = myΓ(α,β,x[i]);\n",
    "    end\n",
    "    \n",
    "    return val\n",
    "end;"
   ]
  },
  {
   "cell_type": "code",
   "execution_count": null,
   "id": "a7a10171",
   "metadata": {},
   "outputs": [],
   "source": [
    "p1 = histogram(Γₛ[1,:],normalize=:pdf,title=\"α-marginal\",xlabel=\"value\",ylabel=\"density\",\n",
    "               xlims=(0.0,quantile(Γₛ[1,:],0.99)),labels=\"\");\n",
    "p2 = plot(Γₛ[1,:],linewidth=1,title=\"α-trace\",xlabel=\"sample id\",ylabel=\"value\",labels=\"\");\n",
    "p3 = histogram(Γₛ[2,:],normalize=:pdf,title=\"β-marginal\",xlabel=\"value\",ylabel=\"density\",\n",
    "               xlims=(0.0,quantile(Γₛ[2,:],0.99)),labels=\"\");\n",
    "p4 = plot(Γₛ[2,:],linewidth=1,title=\"β-trace\",xlabel=\"sample id\",ylabel=\"value\",labels=\"\");\n",
    "\n",
    "lay = @layout [a b;c d]\n",
    "plot(p1,p2,p3,p4,layout=lay,size=(800,450),margin=5mm)"
   ]
  },
  {
   "cell_type": "markdown",
   "id": "2420815f",
   "metadata": {},
   "source": [
    "$A$ amplitude of shedding"
   ]
  },
  {
   "cell_type": "code",
   "execution_count": null,
   "id": "e1a9503b",
   "metadata": {},
   "outputs": [],
   "source": [
    "A = Array{Float64,1}(undef,0);\n",
    "for i=1:nsmp\n",
    "    n = PRM[i][:n] |> floor |> Int64;\n",
    "    ram = Vector{Float64}(undef,n)\n",
    "    \n",
    "    for j=1:n\n",
    "        Anow = Symbol(:A,j);\n",
    "        ram[j] = PRM[i][Anow];\n",
    "    end\n",
    "    \n",
    "    A = [A;ram]\n",
    "end"
   ]
  },
  {
   "cell_type": "code",
   "execution_count": null,
   "id": "d0e556ec",
   "metadata": {},
   "outputs": [],
   "source": [
    "p1 = histogram(A,normalize=:pdf,labels=\"\",title=\"posterior\",xlabel=\"Amplitude peak\",ylabel=\"density\",xlims=(0,quantile(A,0.95)));\n",
    "p2 = plot(A,linewidth=1,labels=\"\",title=\"trace\",xlabel=\"smp\",ylabel=\"Amplitude peak\");\n",
    "\n",
    "plot(p1,p2,size=(600,300),margin=2mm)"
   ]
  },
  {
   "cell_type": "markdown",
   "id": "2500525d",
   "metadata": {},
   "source": [
    "$A_x$ position of peak"
   ]
  },
  {
   "cell_type": "code",
   "execution_count": null,
   "id": "b60ab3ee",
   "metadata": {},
   "outputs": [],
   "source": [
    "Aₓ = Array{Float64,1}(undef,0);\n",
    "for i=1:nsmp\n",
    "    n = PRM[i][:n] |> floor |> Int64;\n",
    "    ram = Vector{Float64}(undef,n)\n",
    "    \n",
    "    for j=1:n\n",
    "        Anow = Symbol(:Aₓ,j);\n",
    "        ram[j] = PRM[i][Anow];\n",
    "    end\n",
    "    \n",
    "    Aₓ = [Aₓ;ram]\n",
    "end"
   ]
  },
  {
   "cell_type": "code",
   "execution_count": null,
   "id": "d2d88bb5",
   "metadata": {},
   "outputs": [],
   "source": [
    "p1 = histogram(Aₓ,normalize=:pdf,labels=\"\",title=\"posterior\",xlabel=\"position of peak\",ylabel=\"density\");\n",
    "p2 = plot(Aₓ,linewidth=1,labels=\"\",title=\"trace\",xlabel=\"smp\",ylabel=\"position of peak\");\n",
    "\n",
    "plot(p1,p2,size=(600,300),margin=2mm)"
   ]
  },
  {
   "cell_type": "markdown",
   "id": "44ed362b",
   "metadata": {},
   "source": [
    "#### Poisson mean for total surviving virus shed "
   ]
  },
  {
   "cell_type": "code",
   "execution_count": null,
   "id": "f61d4507",
   "metadata": {},
   "outputs": [],
   "source": [
    "Pμ = Vector{Float64}(undef,nsmp);\n",
    "nmax = Int64(floor(PRM[1][:nmax])); λval = Vector{Float64}(undef,nmax);\n",
    "for i=1:nsmp\n",
    "    n = Int64(floor(PRM[i][:n]));\n",
    "    shedλ!(PRM[i];λval=λval);\n",
    "    val = 0.0;\n",
    "    for j=1:n\n",
    "        val += λval[j]\n",
    "    end\n",
    "    Pμ[i] = val;\n",
    "end"
   ]
  },
  {
   "cell_type": "code",
   "execution_count": null,
   "id": "d336a9e3",
   "metadata": {},
   "outputs": [],
   "source": [
    "p1 = histogram(Pμ,normalize=:pdf,labels=\"\",title=\"posterior\",xlabel=\"mean virus detected\",ylabel=\"density\",\n",
    "               xlims=(0.00,quantile(Pμ,0.99)));\n",
    "p2 = plot(Pμ,linewidth=1,labels=\"\",title=\"trace\",xlabel=\"smp\",ylabel=\"mean virus detected\");\n",
    "\n",
    "plot(p1,p2,size=(600,300),margin=2mm)"
   ]
  }
 ],
 "metadata": {
  "kernelspec": {
   "display_name": "Julia 1.6.0",
   "language": "julia",
   "name": "julia-1.6"
  },
  "language_info": {
   "file_extension": ".jl",
   "mimetype": "application/julia",
   "name": "julia",
   "version": "1.6.0"
  }
 },
 "nbformat": 4,
 "nbformat_minor": 5
}
