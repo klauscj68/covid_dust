{
 "cells": [
  {
   "cell_type": "markdown",
   "id": "497c93e5",
   "metadata": {},
   "source": [
    "# Analyze Dust Bayesian Inference Data"
   ]
  },
  {
   "cell_type": "code",
   "execution_count": null,
   "id": "f5e4f40f",
   "metadata": {},
   "outputs": [],
   "source": [
    "using Plots,Random,Measures,CSV,DataFrames,Statistics\n",
    "gr();\n",
    "\n",
    "include(\"auxilliary.jl\"); include(\"poimcmc.jl\");"
   ]
  },
  {
   "cell_type": "code",
   "execution_count": null,
   "id": "3c61e119",
   "metadata": {},
   "outputs": [],
   "source": [
    "prm,_=data(); nbld = Int64(floor(prm[:nbld]));\n",
    "println(\"Measured copies/mg dust:\")\n",
    "for i=1:nbld\n",
    "    Yi = Symbol(:Y,i); val = prm[Yi];\n",
    "    println(\"Bld $i: $val\")\n",
    "end"
   ]
  },
  {
   "cell_type": "markdown",
   "id": "a066ef35",
   "metadata": {},
   "source": [
    "## Load the MCMC samples"
   ]
  },
  {
   "cell_type": "code",
   "execution_count": null,
   "id": "d71874f2",
   "metadata": {},
   "outputs": [],
   "source": [
    "df = CSV.read(\"MCMCsmp.csv\",DataFrame,header=false); sort!(df,:Column1); nsmp = size(df)[2]-1;\n",
    "df[!,1] = Symbol.(df[!,1]);\n",
    "println(\"Number of MCMC samples: $nsmp\");"
   ]
  },
  {
   "cell_type": "markdown",
   "id": "1e89612e",
   "metadata": {},
   "source": [
    "## Posterior distributions for key parameters\n",
    "#### Parse parameters"
   ]
  },
  {
   "cell_type": "code",
   "execution_count": null,
   "id": "cc88d2ea",
   "metadata": {},
   "outputs": [],
   "source": [
    "PRM = Vector{Dict{Symbol,Float64}}(undef,nsmp);\n",
    "shift = 1;\n",
    "\n",
    "for i=1:nsmp\n",
    "    # load parameters\n",
    "    prm,_ = rdprm(df[:,i+1],df[:,1]);\n",
    "    PRM[i] = deepcopy(prm);\n",
    "end \n",
    "nmax = Int64(floor(PRM[1][:nmax]));"
   ]
  },
  {
   "cell_type": "markdown",
   "id": "b6f499e2",
   "metadata": {},
   "source": [
    "#### Number infected"
   ]
  },
  {
   "cell_type": "code",
   "execution_count": null,
   "id": "873c22a3",
   "metadata": {},
   "outputs": [],
   "source": [
    "n = Vector{Float64}(undef,nsmp)\n",
    "for i=1:nsmp\n",
    "    val = 0;\n",
    "    @inbounds for j=1:nbld\n",
    "        nj = Symbol(:n,j);\n",
    "        val += Int64(floor(PRM[i][nj]));\n",
    "    end\n",
    "    n[i] = val;\n",
    "end"
   ]
  },
  {
   "cell_type": "code",
   "execution_count": null,
   "id": "2edfba5d",
   "metadata": {},
   "outputs": [],
   "source": [
    "nstats = quantile(n,[0.025,0.25,0.5,0.75,0.975]);\n",
    "navg = sum(n)/length(n);\n",
    "println(\"n mean: $navg\")\n",
    "println(\"nstats $nstats\")\n",
    "\n",
    "p1 = histogram(n,normalize=:pdf,labels=\"\",title=\"posterior\",xlabel=\"number infected\",ylabel=\"density\",bins=100);\n",
    "p2 = plot(n,linewidth=1,labels=\"\",title=\"trace\",xlabel=\"smp\",ylabel=\"number infected\");\n",
    "\n",
    "plot(p1,p2,size=(600,300),margin=2mm)"
   ]
  },
  {
   "cell_type": "markdown",
   "id": "5a8de7c6",
   "metadata": {},
   "source": [
    "#### Individual shedding curves\n",
    "$\\Gamma(\\alpha,\\beta)$ distribution hyperparameters for shedding amplitude"
   ]
  },
  {
   "cell_type": "code",
   "execution_count": null,
   "id": "c361bb4b",
   "metadata": {},
   "outputs": [],
   "source": [
    "Γₛ = Array{Float64,2}(undef,2,nsmp);\n",
    "for i=1:nsmp\n",
    "        Γₛ[1,i]=PRM[i][:Γα]+1e-6*(rand()-0.5);\n",
    "        Γₛ[2,i]=PRM[i][:Γβ];\n",
    "end"
   ]
  },
  {
   "cell_type": "code",
   "execution_count": null,
   "id": "2ebd25de",
   "metadata": {},
   "outputs": [],
   "source": [
    "# Joint distribution of Γ(α,β)-hyperparameters\n",
    "println(\"Posterior joint distribution:\")\n",
    "p1 = histogram2d(Γₛ[1,:],Γₛ[2,:],xlabel=\"Γα\",ylabel=\"Γβ\",title=\"Shedding Distribution\")\n",
    "plot!(xformatter=(x->string(floor(x*1000)/1000)));\n",
    "\n",
    "p2 = histogram2d(Γₛ[1,:]./Γₛ[2,:],((Γₛ[1,:]).^(0.5))./Γₛ[2,:],xlabel=\"Γ-mean\",ylabel=\"Γ-stddev\",title=\"Shedding Distribution\")\n",
    "\n",
    "lay = @layout [a b];\n",
    "plot(p1,p2,layout=lay,size=(800,300),margin=3mm)"
   ]
  },
  {
   "cell_type": "code",
   "execution_count": null,
   "id": "733b72c4",
   "metadata": {},
   "outputs": [],
   "source": [
    "savefig(\"abposterior.pdf\")"
   ]
  },
  {
   "cell_type": "markdown",
   "id": "93b14ec6",
   "metadata": {},
   "source": [
    "$\\Gamma(\\bar{\\alpha},\\bar{\\beta})$ hyperparam marginals"
   ]
  },
  {
   "cell_type": "code",
   "execution_count": null,
   "id": "a7a10171",
   "metadata": {},
   "outputs": [],
   "source": [
    "p1 = histogram(Γₛ[1,:],normalize=:pdf,title=\"α-marginal\",xlabel=\"value\",ylabel=\"density\",\n",
    "               xlims=(0.0,quantile(Γₛ[1,:],0.99)),labels=\"\",bins=100);\n",
    "p2 = plot(Γₛ[1,:],linewidth=1,title=\"α-trace\",xlabel=\"sample id\",ylabel=\"value\",labels=\"\");\n",
    "p3 = histogram(Γₛ[2,:],normalize=:pdf,title=\"β-marginal\",xlabel=\"value\",ylabel=\"density\",\n",
    "               xlims=(0.0,quantile(Γₛ[2,:],0.99)),labels=\"\",bins=500);\n",
    "p4 = plot(Γₛ[2,:],linewidth=1,title=\"β-trace\",xlabel=\"sample id\",ylabel=\"value\",labels=\"\");\n",
    "\n",
    "lay = @layout [a b;c d]\n",
    "plot(p1,p2,p3,p4,layout=lay,size=(800,450),margin=5mm)"
   ]
  },
  {
   "cell_type": "code",
   "execution_count": null,
   "id": "17130cda",
   "metadata": {},
   "outputs": [],
   "source": [
    "# Export hyperparameter posterior\n",
    "hyper = [\"alpha\",\"beta\"];\n",
    "dfhyper = DataFrame(hcat(hyper,Γₛ));\n",
    "CSV.write(\"abpost.csv\",dfhyper,writeheader=false);"
   ]
  },
  {
   "cell_type": "code",
   "execution_count": null,
   "id": "c22fee05",
   "metadata": {},
   "outputs": [],
   "source": [
    "p1 = histogram(Γₛ[1,:]./Γₛ[2,:],normalize=:pdf,title=\"Γ-mean\",xlabel=\"value\",ylabel=\"density\",\n",
    "               xlims=(0.0,quantile(Γₛ[1,:]./Γₛ[2,:],0.99)),labels=\"\",bins=100);\n",
    "p2 = plot(Γₛ[1,:]./Γₛ[2,:],linewidth=1,title=\"Γmean-trace\",xlabel=\"sample id\",ylabel=\"value\",labels=\"\");\n",
    "p3 = histogram((Γₛ[1,:].^(0.5))./Γₛ[2,:],normalize=:pdf,title=\"Γ-stddev\",xlabel=\"value\",ylabel=\"density\",\n",
    "               xlims=(0.0,quantile(Γₛ[1,:].^(0.5)./Γₛ[2,:],0.99)),labels=\"\",bins=100);\n",
    "p4 = plot((Γₛ[1,:].^(0.5))./Γₛ[2,:],linewidth=1,title=\"Γstddev-trace\",xlabel=\"sample id\",ylabel=\"value\",labels=\"\");\n",
    "\n",
    "lay = @layout [a b;c d]\n",
    "plot(p1,p2,p3,p4,layout=lay,size=(800,450),margin=5mm)"
   ]
  },
  {
   "cell_type": "markdown",
   "id": "2420815f",
   "metadata": {},
   "source": [
    "$A$ amplitude of shedding"
   ]
  },
  {
   "cell_type": "code",
   "execution_count": null,
   "id": "e1a9503b",
   "metadata": {},
   "outputs": [],
   "source": [
    "A = Array{Float64,1}(undef,nmax*nsmp);\n",
    "pos = 0;\n",
    "for i=1:nsmp\n",
    "    n = 0;\n",
    "    @inbounds for j=1:nbld\n",
    "        nj = Symbol(:n,j);\n",
    "        n += PRM[i][nj] |> floor |> Int64;\n",
    "    end\n",
    "    ram = Vector{Float64}(undef,n)\n",
    "    \n",
    "    for j=1:n\n",
    "        Anow = Symbol(:A,j);\n",
    "        ram[j] = PRM[i][Anow];\n",
    "    end\n",
    "    \n",
    "    A[pos+1:pos+n]=ram;\n",
    "    pos += n;\n",
    "end\n",
    "A = A[1:pos];"
   ]
  },
  {
   "cell_type": "code",
   "execution_count": null,
   "id": "d0e556ec",
   "metadata": {},
   "outputs": [],
   "source": [
    "p1 = histogram(A,normalize=:pdf,labels=\"\",title=\"posterior\",xlabel=\"Amplitude peak\",ylabel=\"density\",\n",
    "               xlims=(0.0,quantile(A,0.99)));\n",
    "#p2 = plot(A,linewidth=1,labels=\"\",title=\"trace\",xlabel=\"smp\",ylabel=\"Amplitude peak\");\n",
    "\n",
    "#plot(p1,p2,size=(600,300),margin=2mm)\n",
    "maxA = maximum(A);\n",
    "println(\"Max shedding amplitude: $maxA\")\n",
    "plot(p1,size=(300,300),margin=2mm)"
   ]
  },
  {
   "cell_type": "markdown",
   "id": "2500525d",
   "metadata": {},
   "source": [
    "$A_x$ position of peak"
   ]
  },
  {
   "cell_type": "code",
   "execution_count": null,
   "id": "b60ab3ee",
   "metadata": {},
   "outputs": [],
   "source": [
    "Aₓ = Array{Float64,1}(undef,nmax*nsmp);\n",
    "pos = 0;\n",
    "for i=1:nsmp\n",
    "    n = 0;\n",
    "    @inbounds for j=1:nbld\n",
    "        nj = Symbol(:n,j);\n",
    "        n += PRM[i][nj] |> floor |> Int64;\n",
    "    end\n",
    "    ram = Vector{Float64}(undef,n)\n",
    "    \n",
    "    for j=1:n\n",
    "        Anow = Symbol(:Aₓ,j);\n",
    "        ram[j] = PRM[i][Anow];\n",
    "    end\n",
    "    \n",
    "    Aₓ[pos+1:pos+n]=ram;\n",
    "    pos += n;\n",
    "end"
   ]
  },
  {
   "cell_type": "code",
   "execution_count": null,
   "id": "d2d88bb5",
   "metadata": {},
   "outputs": [],
   "source": [
    "p1 = histogram(Aₓ,normalize=:pdf,labels=\"\",title=\"posterior\",xlabel=\"position of peak\",ylabel=\"density\",bins=100);\n",
    "#p2 = plot(Aₓ,linewidth=1,labels=\"\",title=\"trace\",xlabel=\"smp\",ylabel=\"position of peak\");\n",
    "\n",
    "#plot(p1,p2,size=(600,300),margin=2mm)\n",
    "plot(p1,size=(300,300),margin=2mm)"
   ]
  },
  {
   "cell_type": "markdown",
   "id": "b73ec0bc",
   "metadata": {},
   "source": [
    "L duration of shedding by infectious individual"
   ]
  },
  {
   "cell_type": "code",
   "execution_count": null,
   "id": "746e620a",
   "metadata": {},
   "outputs": [],
   "source": [
    "L = Array{Float64,1}(undef,nmax*nsmp);\n",
    "pos = 0;\n",
    "for i=1:nsmp\n",
    "    n = 0;\n",
    "    @inbounds for j=1:nbld\n",
    "        nj = Symbol(:n,j);\n",
    "        n += PRM[i][nj] |> floor |> Int64;\n",
    "    end\n",
    "    ram = Vector{Float64}(undef,n)\n",
    "    \n",
    "    for j=1:n\n",
    "        Lnow = Symbol(:L,j);\n",
    "        ram[j] = PRM[i][Lnow];\n",
    "    end\n",
    "    \n",
    "    L[pos+1:pos+n]=ram;\n",
    "    pos += n;\n",
    "end\n",
    "L = L[1:pos];"
   ]
  },
  {
   "cell_type": "code",
   "execution_count": null,
   "id": "5b21dfea",
   "metadata": {},
   "outputs": [],
   "source": [
    "p1 = histogram(L,normalize=:pdf,labels=\"\",title=\"posterior\",xlabel=\"length of shedding\",ylabel=\"density\",bins=100);\n",
    "#p2 = plot(L,linewidth=1,labels=\"\",title=\"trace\",xlabel=\"smp\",ylabel=\"length of shedding\");\n",
    "\n",
    "#plot(p1,p2,size=(600,300),margin=2mm)\n",
    "plot(p1,size=(300,300),margin=2mm)"
   ]
  },
  {
   "cell_type": "markdown",
   "id": "b92a21c3",
   "metadata": {},
   "source": [
    "$t_i$ individual infection times"
   ]
  },
  {
   "cell_type": "code",
   "execution_count": null,
   "id": "9708efee",
   "metadata": {},
   "outputs": [],
   "source": [
    "t₀ = Array{Float64,1}(undef,nmax*nsmp);\n",
    "pos = 0;\n",
    "for i=1:nsmp\n",
    "    n = 0;\n",
    "    @inbounds for j=1:nbld\n",
    "        nj = Symbol(:n,j);\n",
    "        n += PRM[i][nj] |> floor |> Int64;\n",
    "    end\n",
    "    ram = Vector{Float64}(undef,n)\n",
    "    \n",
    "    for j=1:n\n",
    "        t₀now = Symbol(:t,j);\n",
    "        ram[j] = PRM[i][t₀now];\n",
    "    end\n",
    "    \n",
    "    t₀[pos+1:pos+n]=ram;\n",
    "    pos += n;\n",
    "end\n",
    "t₀ = t₀[1:pos];"
   ]
  },
  {
   "cell_type": "code",
   "execution_count": null,
   "id": "1f49c85f",
   "metadata": {},
   "outputs": [],
   "source": [
    "p1 = histogram(t₀,normalize=:pdf,labels=\"\",title=\"posterior\",xlabel=\"infection times\",ylabel=\"density\",bins=100);\n",
    "#p2 = plot(t₀,linewidth=1,labels=\"\",title=\"trace\",xlabel=\"smp\",ylabel=\"infection times\");\n",
    "\n",
    "#plot(p1,p2,size=(600,300),margin=2mm)\n",
    "plot(p1,size=(300,300),margin=2mm)"
   ]
  },
  {
   "cell_type": "markdown",
   "id": "938399e0",
   "metadata": {},
   "source": [
    "#### individual times they took up residence and left the building"
   ]
  },
  {
   "cell_type": "code",
   "execution_count": null,
   "id": "4e4e1447",
   "metadata": {},
   "outputs": [],
   "source": [
    "tₑ = Array{Float64,1}(undef,nmax*nsmp);\n",
    "pos = 0;\n",
    "for i=1:nsmp\n",
    "    n = 0;\n",
    "    @inbounds for j=1:nbld\n",
    "        nj = Symbol(:n,j);\n",
    "        n += PRM[i][nj] |> floor |> Int64;\n",
    "    end\n",
    "    ram = Vector{Float64}(undef,n)\n",
    "    \n",
    "    for j=1:n\n",
    "        tₑnow = Symbol(:te,j);\n",
    "        ram[j] = PRM[i][tₑnow];\n",
    "    end\n",
    "    \n",
    "    tₑ[pos+1:pos+n]=ram;\n",
    "    pos += n;\n",
    "end\n",
    "tₑ = tₑ[1:pos];"
   ]
  },
  {
   "cell_type": "code",
   "execution_count": null,
   "id": "6dfc8c4a",
   "metadata": {},
   "outputs": [],
   "source": [
    "p1 = histogram(tₑ,normalize=:pdf,labels=\"\",title=\"posterior\",xlabel=\"enter building times\",ylabel=\"density\",bins=100);\n",
    "#p2 = plot(t₀,linewidth=1,labels=\"\",title=\"trace\",xlabel=\"smp\",ylabel=\"infection times\");\n",
    "\n",
    "#plot(p1,p2,size=(600,300),margin=2mm)\n",
    "plot(p1,size=(300,300),margin=2mm)"
   ]
  },
  {
   "cell_type": "code",
   "execution_count": null,
   "id": "8bcb438c",
   "metadata": {},
   "outputs": [],
   "source": [
    "tℓ = Array{Float64,1}(undef,nmax*nsmp);\n",
    "pos = 0;\n",
    "for i=1:nsmp\n",
    "    n = 0;\n",
    "    @inbounds for j=1:nbld\n",
    "        nj = Symbol(:n,j);\n",
    "        n += PRM[i][nj] |> floor |> Int64;\n",
    "    end\n",
    "    ram = Vector{Float64}(undef,n)\n",
    "    \n",
    "    for j=1:n\n",
    "        tℓnow = Symbol(:tℓ,j);\n",
    "        ram[j] = PRM[i][tℓnow];\n",
    "    end\n",
    "    \n",
    "    tℓ[pos+1:pos+n]=ram;\n",
    "    pos += n;\n",
    "end\n",
    "tℓ = tℓ[1:pos];"
   ]
  },
  {
   "cell_type": "code",
   "execution_count": null,
   "id": "56b4f268",
   "metadata": {},
   "outputs": [],
   "source": [
    "p1 = histogram(tℓ,normalize=:pdf,labels=\"\",title=\"posterior\",xlabel=\"exit building times\",ylabel=\"density\",bins=100);\n",
    "#p2 = plot(t₀,linewidth=1,labels=\"\",title=\"trace\",xlabel=\"smp\",ylabel=\"infection times\");\n",
    "\n",
    "#plot(p1,p2,size=(600,300),margin=2mm)\n",
    "plot(p1,size=(300,300),margin=2mm)"
   ]
  },
  {
   "cell_type": "code",
   "execution_count": null,
   "id": "4e7b91a9",
   "metadata": {},
   "outputs": [],
   "source": [
    "# Joint distribution of tₑ,tℓ\n",
    "println(\"Posterior joint distribution of enter exit times:\")\n",
    "histogram2d(tₑ,tℓ,xlabel=\"tₑ\",ylabel=\"tℓ\",title=\"Building Enter/Exit Distribution\")"
   ]
  },
  {
   "cell_type": "code",
   "execution_count": null,
   "id": "371ec0d1",
   "metadata": {},
   "outputs": [],
   "source": [
    "# Joint distribution of t₀,tₑ\n",
    "println(\"Posterior joint distribution of time infected and enter:\")\n",
    "histogram2d(t₀,tₑ,xlabel=\"t₀\",ylabel=\"tₑ\",title=\"Building Inf/Enter Distribution\",margin=2mm)"
   ]
  },
  {
   "cell_type": "markdown",
   "id": "44ed362b",
   "metadata": {},
   "source": [
    "#### Poisson mean for total surviving virus shed "
   ]
  },
  {
   "cell_type": "code",
   "execution_count": null,
   "id": "f61d4507",
   "metadata": {},
   "outputs": [],
   "source": [
    "Pμ = Matrix{Float64}(undef,nsmp,nbld);\n",
    "λval = Vector{Float64}(undef,nmax);\n",
    "for i=1:nsmp\n",
    "    shedλ!(PRM[i];λval=λval);\n",
    "    pos = 0;\n",
    "    for j=1:nbld\n",
    "        nj = Symbol(:n,j);\n",
    "        n = Int64(floor(PRM[i][nj]));\n",
    "        val = 0.0;\n",
    "        for k=1:n\n",
    "            val += λval[pos+k]\n",
    "        end\n",
    "        Pμ[i,j] = val;\n",
    "        pos += n;\n",
    "    end\n",
    "end"
   ]
  },
  {
   "cell_type": "code",
   "execution_count": null,
   "id": "d336a9e3",
   "metadata": {},
   "outputs": [],
   "source": [
    "Plts = Matrix{Any}(undef,nbld,2);\n",
    "for i=1:nbld\n",
    "    Plts[i,1] = histogram(Pμ[:,i],normalize=:pdf,labels=\"\",title=\"posterior\",xlabel=\"mean virus detected\",ylabel=\"density\",\n",
    "               xlims=(0.00,quantile(Pμ[:,i],0.99)),bins=100);\n",
    "    Plts[i,2] = plot(Pμ[:,i],linewidth=1,labels=\"\",title=\"trace\",xlabel=\"smp\",ylabel=\"mean virus detected\");\n",
    "end"
   ]
  },
  {
   "cell_type": "code",
   "execution_count": null,
   "id": "752ac6e2",
   "metadata": {},
   "outputs": [],
   "source": [
    "lay = @layout [a b];\n",
    "plot(Plts[1,1],Plts[1,2],size=(600,300),margin=2mm)"
   ]
  },
  {
   "cell_type": "code",
   "execution_count": null,
   "id": "21ac2406",
   "metadata": {},
   "outputs": [],
   "source": []
  }
 ],
 "metadata": {
  "kernelspec": {
   "display_name": "Julia 1.6.0",
   "language": "julia",
   "name": "julia-1.6"
  },
  "language_info": {
   "file_extension": ".jl",
   "mimetype": "application/julia",
   "name": "julia",
   "version": "1.6.0"
  }
 },
 "nbformat": 4,
 "nbformat_minor": 5
}
