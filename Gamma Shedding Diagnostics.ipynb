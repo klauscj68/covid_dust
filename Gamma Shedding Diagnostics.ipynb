{
 "cells": [
  {
   "cell_type": "code",
   "execution_count": null,
   "id": "65b8a814",
   "metadata": {},
   "outputs": [],
   "source": [
    "using Plots,Random,Measures,CSV,DataFrames,Statistics,Distributions\n",
    "gr();\n",
    "\n",
    "include(\"auxilliary.jl\"); include(\"poimcmc.jl\");"
   ]
  },
  {
   "cell_type": "markdown",
   "id": "e273ef40",
   "metadata": {},
   "source": [
    "## Inputs"
   ]
  },
  {
   "cell_type": "code",
   "execution_count": null,
   "id": "c5f17e9a",
   "metadata": {},
   "outputs": [],
   "source": [
    "nsmp = 200000\n",
    "myrng = MersenneTwister(); "
   ]
  },
  {
   "cell_type": "code",
   "execution_count": null,
   "id": "34a13240",
   "metadata": {},
   "outputs": [],
   "source": [
    "# Load the fixed enter times for infecteds from an Enter/Exit \n",
    "df = CSV.read(\"MCMCsmp.csv\",DataFrame,header=false); \n",
    "df = df[:,1:2]; rename!(df,[\"Column1\"=>\"name\",\"Column2\"=>\"value\"]); df[!,\"name\"].=Symbol.(df[!,\"name\"]);\n",
    "prm,vkeys = rdprm(df[!,\"value\"],df[!,\"name\"]); nmax=Int64(prm[:nmax]);\n",
    "println(\"Dust measurement:\")\n",
    "prm[:Y]"
   ]
  },
  {
   "cell_type": "code",
   "execution_count": null,
   "id": "ad9c2fdd",
   "metadata": {},
   "outputs": [],
   "source": [
    "# Load the β-posterior\n",
    "dfβ = CSV.read(\"abpost.csv\",DataFrame,header=false);\n",
    "βpost=convert(Vector{Float64},dfβ[2,2:end]);"
   ]
  },
  {
   "cell_type": "code",
   "execution_count": null,
   "id": "510b10dd",
   "metadata": {},
   "outputs": [],
   "source": [
    "βhist = rand(myrng,βpost,nsmp);\n",
    "Ahist = [rand(myrng,Gamma(1.0,1/βhist[i])) for i=1:nsmp];\n",
    "Aₓhist = rand(myrng,Normal(prm[:Aₓμ],prm[:Aₓσ]),nsmp);\n",
    "Lhist = Aₓhist + rand(myrng,Normal(prm[:Lμ],prm[:Lσ]),nsmp);\n",
    "\n",
    "p1 = histogram(βhist,title=\"β\",labels=\"\",normalize=:pdf,bins=75);\n",
    "p2 = histogram(Ahist,title=\"A\",labels=\"\",normalize=:pdf,bins=75);\n",
    "p3 = histogram(Aₓhist,title=\"Aₓ\",labels=\"\",normalize=:pdf,bins=75);\n",
    "p4 = histogram(Lhist,title=\"L\",labels=\"\",normalize=:pdf,bins=75);\n",
    "\n",
    "lay = @layout [a b;c d]\n",
    "plot(p1,p2,p3,p4)"
   ]
  },
  {
   "cell_type": "markdown",
   "id": "cc814d30",
   "metadata": {},
   "source": [
    "## Sample dust values"
   ]
  },
  {
   "cell_type": "code",
   "execution_count": null,
   "id": "0fd70988",
   "metadata": {},
   "outputs": [],
   "source": [
    "Y = Vector{Float64}(undef,nsmp);\n",
    "μλ = Vector{Float64}(undef,nsmp);\n",
    "μp = 0.0; gen=[1,0]; #nsmp x nmax\n",
    "@inbounds for k=1:nsmp*nmax\n",
    "    if gen[2]<nmax\n",
    "        gen[2]+=1;\n",
    "    else\n",
    "        gen[1]+=1;gen[2]=1;\n",
    "    end\n",
    "    i=gen[1]; j=gen[2];\n",
    "    \n",
    "    # Set base Poisson mean if needed\n",
    "    if j==1\n",
    "        μp = 0.0;\n",
    "    end\n",
    "    \n",
    "    # Sample the infection time\n",
    "    tj = Symbol(:t,j); tej = Symbol(:te,j); tℓj = Symbol(:tℓ,j);\n",
    "    prm[tj] = prm[tej]-10+10*rand(myrng);\n",
    "    \n",
    "    # Sample the amplitude \n",
    "    Aj = Symbol(:A,j);\n",
    "    β = rand(myrng,βpost);\n",
    "    Γdistr = Gamma(1.0,1/β);\n",
    "    prm[Aj] = rand(myrng,Γdistr);\n",
    "    \n",
    "    # Sample the position of the peak\n",
    "    Axj = Symbol(:Aₓ,j);\n",
    "    Ndistr = Normal(prm[:Aₓμ],prm[:Aₓσ]);\n",
    "    prm[Axj] = rand(myrng,Ndistr);\n",
    "    \n",
    "    # Sample the shedding duration conditional on the peak\n",
    "    Lj = Symbol(:L,j);\n",
    "    Ndistr = Normal(prm[:Lμ],prm[:Lσ]);\n",
    "    prm[Lj] = prm[Axj] + rand(myrng,Ndistr);\n",
    "    \n",
    "    # Compute contribution to Poisson mean\n",
    "    μp += shedλ(prm[Aj],prm[Lj],prm[tj],prm[:T],prm[Axj],prm[:ξ],prm[tej],prm[tℓj]);\n",
    "    \n",
    "    if j==nmax\n",
    "        μλ[i] = μp;\n",
    "        Pdistr = Poisson(μp);\n",
    "        Y[i] = rand(myrng,Pdistr);\n",
    "    end\n",
    "end "
   ]
  },
  {
   "cell_type": "code",
   "execution_count": null,
   "id": "1e59ae4d",
   "metadata": {
    "scrolled": true
   },
   "outputs": [],
   "source": [
    "p1 = histogram(Y,title=\"Observed Dust\",xlabel=\"cp/mg\",ylabel=\"density\",normalize=:pdf,labels=\"\",bins=75);\n",
    "p2 = histogram(μλ,title=\"Shedding Mean\",xlabel=\"cp/mg\",ylabel=\"density\",normalize=:pdf,labels=\"\",bins=75);\n",
    "lay = @layout [a b];\n",
    "plot(p1,p2,layout=lay,size=(900,300),margin=5mm)"
   ]
  },
  {
   "cell_type": "code",
   "execution_count": null,
   "id": "044a22c5",
   "metadata": {},
   "outputs": [],
   "source": []
  }
 ],
 "metadata": {
  "kernelspec": {
   "display_name": "Julia 1.6.0",
   "language": "julia",
   "name": "julia-1.6"
  },
  "language_info": {
   "file_extension": ".jl",
   "mimetype": "application/julia",
   "name": "julia",
   "version": "1.6.0"
  }
 },
 "nbformat": 4,
 "nbformat_minor": 5
}
