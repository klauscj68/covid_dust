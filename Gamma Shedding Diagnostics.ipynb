{
 "cells": [
  {
   "cell_type": "code",
   "execution_count": null,
   "id": "65b8a814",
   "metadata": {},
   "outputs": [],
   "source": [
    "using Plots,Random,Measures,CSV,DataFrames,Statistics,Distributions\n",
    "pyplot();\n",
    "\n",
    "include(\"aux.jl\"); include(\"poimcmc.jl\");"
   ]
  },
  {
   "cell_type": "code",
   "execution_count": null,
   "id": "c5f17e9a",
   "metadata": {},
   "outputs": [],
   "source": [
    "myrng = MersenneTwister(); \n",
    "prm,_=data();"
   ]
  },
  {
   "cell_type": "code",
   "execution_count": null,
   "id": "fc7f8795",
   "metadata": {},
   "outputs": [],
   "source": [
    "function myΓ(α::Float64,β::Float64,x::Float64)\n",
    "    if x > 0\n",
    "        val = exp(α*log(β))*exp((α-1)*log(x))*exp(-β*x)/gamma(α);\n",
    "    else\n",
    "        val = 0.0;\n",
    "    end\n",
    "    return val\n",
    "end\n",
    "\n",
    "function myΓ(α::Float64,β::Float64,x::Vector{Float64})\n",
    "    n = length(x);\n",
    "    val = Vector{Float64}(undef,n);\n",
    "    for i=1:n\n",
    "        val[i] = myΓ(α,β,x[i]);\n",
    "    end\n",
    "    \n",
    "    return val\n",
    "end;"
   ]
  },
  {
   "cell_type": "code",
   "execution_count": null,
   "id": "4593df19",
   "metadata": {},
   "outputs": [],
   "source": [
    "α = prm[:Γα]; β = prm[:Γβ]; μ=α/β; var = α/β^2;\n",
    "prmrg,_ = mcmcrg();\n",
    "\n",
    "Ax = convert(Vector,LinRange(0.001,250,10000));\n",
    "Ay = myΓ(α,β,Ax);\n",
    "\n",
    "println(\"Mean Γ-distribution for hyperparameters:\")\n",
    "println(\"(α,β)=($α,$β)\")\n",
    "println(\"(μ,var)=($μ,$var)\")"
   ]
  },
  {
   "cell_type": "markdown",
   "id": "f30c0f17",
   "metadata": {},
   "source": [
    "### MCMC Approximate $\\Gamma(\\alpha,\\beta)$"
   ]
  },
  {
   "cell_type": "code",
   "execution_count": null,
   "id": "8ffd0649",
   "metadata": {},
   "outputs": [],
   "source": [
    "nsmp = 50000; "
   ]
  },
  {
   "cell_type": "code",
   "execution_count": null,
   "id": "1e6df76b",
   "metadata": {},
   "outputs": [],
   "source": [
    "\"\"\"\n",
    "Density for normal distribution centered at x with std dev x/2\n",
    "\"\"\"\n",
    "function ρnrm(x::Float64,y::Float64)\n",
    "    val = 1/√(2*pi)/(0.5*x);\n",
    "    val *= exp(-0.5*( (x-y)/(0.5*x) )^2);\n",
    "    \n",
    "    return val\n",
    "end;\n",
    "\n",
    "function nrm(x::Float64,y::Float64,σ::Float64)\n",
    "    val = 1/√(2*pi)/σ;\n",
    "    val *= exp(-0.5*( (x-y)/(σ) )^2);\n",
    "    \n",
    "    return val\n",
    "end;"
   ]
  },
  {
   "cell_type": "code",
   "execution_count": null,
   "id": "53b25777",
   "metadata": {},
   "outputs": [],
   "source": [
    "X = Vector{Float64}(undef,nsmp);\n",
    "x0 = 750*rand(myrng);\n",
    "for i=1:nsmp\n",
    "    xprp = x0;\n",
    "    coin = rand(myrng);\n",
    "    if coin <= 0.5\n",
    "        xprp += 0.5*x0*randn(myrng);\n",
    "    elseif coin <=0.75\n",
    "        xprp += 0.5*randn(myrng);\n",
    "    else\n",
    "        xprp += 375*randn(myrng);\n",
    "    end\n",
    "    \n",
    "    mhratio = myΓ(α,β,xprp)/myΓ(α,β,x0);\n",
    "    mhratio *= (0.5*ρnrm(xprp,x0)+0.25*nrm(xprp,x0,0.5)+0.25*nrm(xprp,x0,375.0))/(\n",
    "                  0.5*ρnrm(x0,xprp)+0.25*nrm(x0,xprp,0.5)+0.25*nrm(x0,xprp,375.0));\n",
    "    \n",
    "    if rand(myrng)<= mhratio\n",
    "        x0 = xprp;\n",
    "    end\n",
    "    \n",
    "    X[i]=x0;\n",
    "end"
   ]
  },
  {
   "cell_type": "code",
   "execution_count": null,
   "id": "e90b22e8",
   "metadata": {},
   "outputs": [],
   "source": [
    "plot(Ax,Ay,linewidth=3,title=\"Empirical Γ-distr\",labels=\"theory\",size=(300,250))\n",
    "histogram!(X,normalize=:pdf,xlims=(0,5),labels=\"MCMC\",alpha=0.5,bins=[0,0.05,0.1,0.5,5])"
   ]
  },
  {
   "cell_type": "markdown",
   "id": "516bd119",
   "metadata": {},
   "source": [
    "### Mean shedding from n-individuals by bootstrap"
   ]
  },
  {
   "cell_type": "code",
   "execution_count": null,
   "id": "08badab4",
   "metadata": {},
   "outputs": [],
   "source": [
    "n = 80;\n",
    "L = 7.0; t₀=0.0; T=7.0; Aₓ=3.5; ξ=log(2);"
   ]
  },
  {
   "cell_type": "code",
   "execution_count": null,
   "id": "34797ff7",
   "metadata": {},
   "outputs": [],
   "source": [
    "#### Bootstrap Gamma\n",
    "SMP = Matrix{Float64}(undef,n,nsmp);\n",
    "for i=1:nsmp\n",
    "    for j=1:n\n",
    "        A = X[rand(myrng,1:nsmp)];\n",
    "        SMP[j,i] = shedλ(A,L,t₀,T,Aₓ,ξ);\n",
    "    end\n",
    "end\n",
    "SMP = sum(SMP,dims=1) |> (x->reshape(x,nsmp));"
   ]
  },
  {
   "cell_type": "code",
   "execution_count": null,
   "id": "81b85db1",
   "metadata": {},
   "outputs": [],
   "source": [
    "#### For direct Γ\n",
    "ΓSMP = Matrix{Float64}(undef,n,nsmp);\n",
    "for i=1:nsmp\n",
    "    for j=1:n\n",
    "        A = rand(myrng,Gamma(α,1/β));\n",
    "        ΓSMP[j,i] = shedλ(A,L,t₀,T,Aₓ,ξ);\n",
    "    end\n",
    "end\n",
    "ΓSMP = sum(ΓSMP,dims=1) |> (x->reshape(x,nsmp));"
   ]
  },
  {
   "cell_type": "code",
   "execution_count": null,
   "id": "f54dcd34",
   "metadata": {},
   "outputs": [],
   "source": [
    "histogram(SMP[1:1:end],normalize=:pdf,title=\"Shedding Poisson Mean $n-indiv with nsmp=$nsmp\",label=\"MC SMP\",bins=100)\n",
    "histogram!(ΓSMP[1:1:end],normalize=:pdf,label=\"Γ SMP\",alpha=0.5,bins=100,margin=1mm)"
   ]
  },
  {
   "cell_type": "code",
   "execution_count": null,
   "id": "23aa2f26",
   "metadata": {},
   "outputs": [],
   "source": [
    "savefig(\"scratch.pdf\")"
   ]
  },
  {
   "cell_type": "code",
   "execution_count": null,
   "id": "8526d4ef",
   "metadata": {},
   "outputs": [],
   "source": [
    "println(\"MC Mean Poisson Mean:\");\n",
    "println(sum(SMP)/length(SMP));\n",
    "println(\"\");\n",
    "println(\"Γ Mean Poisson Mean:\");\n",
    "println(sum(ΓSMP)/length(ΓSMP))\n",
    "println(\"\")\n",
    "println(\"Matt said Γ mean of means should be this when ξ=0:\")\n",
    "println(0.5*7*α/β*80)"
   ]
  },
  {
   "cell_type": "markdown",
   "id": "21a6846f",
   "metadata": {},
   "source": [
    "#### Compare with Matt's Synthetic"
   ]
  },
  {
   "cell_type": "code",
   "execution_count": null,
   "id": "e876452b",
   "metadata": {},
   "outputs": [],
   "source": [
    "val = 150;"
   ]
  },
  {
   "cell_type": "markdown",
   "id": "912aecc1",
   "metadata": {},
   "source": [
    "Matt's probabilities:<br>\n",
    "copies | n <br>\n",
    "237\t80 <br>\n",
    "77\t80 <br>\n",
    "144\t80 <br>"
   ]
  },
  {
   "cell_type": "code",
   "execution_count": null,
   "id": "9283f0e4",
   "metadata": {},
   "outputs": [],
   "source": [
    "\"\"\"\n",
    "Find cdf of poisson evaluated at q\n",
    "\"\"\"\n",
    "function cdfpoi(μ::Float64,q::Int64)\n",
    "    val = exp(-μ);\n",
    "    if q>0\n",
    "        for i=1:q\n",
    "            val += exp(-μ)*prod(fill(μ,i)./(1:i));\n",
    "        end\n",
    "    end\n",
    "    \n",
    "    return val\n",
    "end;"
   ]
  },
  {
   "cell_type": "code",
   "execution_count": null,
   "id": "a3b4729d",
   "metadata": {},
   "outputs": [],
   "source": [
    "q5 = (round(quantile(SMP,0.5)))"
   ]
  },
  {
   "cell_type": "code",
   "execution_count": null,
   "id": "8586a3e9",
   "metadata": {},
   "outputs": [],
   "source": [
    "println(\"Empirical probability of falling below $val for 50% quantile Poisson mean:\")\n",
    "println(cdfpoi(q5,val))"
   ]
  },
  {
   "cell_type": "code",
   "execution_count": null,
   "id": "34a13240",
   "metadata": {},
   "outputs": [],
   "source": []
  }
 ],
 "metadata": {
  "kernelspec": {
   "display_name": "Julia 1.6.0",
   "language": "julia",
   "name": "julia-1.6"
  },
  "language_info": {
   "file_extension": ".jl",
   "mimetype": "application/julia",
   "name": "julia",
   "version": "1.6.0"
  }
 },
 "nbformat": 4,
 "nbformat_minor": 5
}
